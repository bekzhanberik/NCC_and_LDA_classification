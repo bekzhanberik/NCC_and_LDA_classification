{
 "cells": [
  {
   "cell_type": "code",
   "execution_count": 13,
   "metadata": {},
   "outputs": [],
   "source": [
    "import pylab as pl\n",
    "import scipy as sp\n",
    "import numpy as np\n",
    "import matplotlib.pyplot as plt\n",
    "from scipy.linalg import eig\n",
    "from scipy.io import loadmat\n",
    "import pdb"
   ]
  },
  {
   "cell_type": "code",
   "execution_count": 2,
   "metadata": {},
   "outputs": [],
   "source": [
    "def load_data(fname):\n",
    "    # load the data\n",
    "    data = loadmat(fname)\n",
    "    X,Y = data['X'],data['Y']\n",
    "    # collapse the time-electrode dimensions\n",
    "    X = sp.reshape(X,(X.shape[0]*X.shape[1],X.shape[2]))\n",
    "    # transform the labels to (-1,1)\n",
    "    Y = sp.sign((Y[0,:]>0) -.5)\n",
    "    return X,Y"
   ]
  },
  {
   "cell_type": "code",
   "execution_count": 14,
   "metadata": {},
   "outputs": [
    {
     "name": "stdout",
     "output_type": "stream",
     "text": [
      "(310, 5322)\n",
      "(5322,)\n"
     ]
    },
    {
     "name": "stderr",
     "output_type": "stream",
     "text": [
      "<ipython-input-2-c780e27ddfc9>:6: DeprecationWarning: scipy.reshape is deprecated and will be removed in SciPy 2.0.0, use numpy.reshape instead\n",
      "  X = sp.reshape(X,(X.shape[0]*X.shape[1],X.shape[2]))\n",
      "<ipython-input-2-c780e27ddfc9>:8: DeprecationWarning: scipy.sign is deprecated and will be removed in SciPy 2.0.0, use numpy.sign instead\n",
      "  Y = sp.sign((Y[0,:]>0) -.5)\n"
     ]
    }
   ],
   "source": [
    "X,Y = load_data('bcidata.mat')\n",
    "print(X.shape)\n",
    "print(Y.shape)"
   ]
  },
  {
   "cell_type": "code",
   "execution_count": 15,
   "metadata": {},
   "outputs": [],
   "source": [
    "def train_ncc(X,Y):\n",
    "\n",
    "    x1, x2 = X.shape\n",
    "    X_minus = np.zeros(1)\n",
    "    X_minus.resize(x1, 0)\n",
    "    X_plus = np.zeros(1)\n",
    "    X_plus.resize(x1, 0)\n",
    "    \n",
    "    for i in range(len(Y)):\n",
    "        if Y[i] < 0:\n",
    "            X_minus = np.c_[X_minus, X[:,i]]\n",
    "        else:\n",
    "            pass\n",
    "        return X_minus\n",
    "    \n",
    "    for n in range(len(Y)):\n",
    "        if Y[n] > 0:\n",
    "            X_plus = np.c_[X_plus, X[:, i]]\n",
    "        else:\n",
    "            pass\n",
    "        return X_plus\n",
    "    \n",
    "    n_plus = len(np.transpose(X_plus))\n",
    "    n_minus = len(np.transpose(Y_minus))\n",
    "    m_plus = np.zeros(1)\n",
    "    m_plus.resize(x1, 0)\n",
    "    m_minus = np.zeros(1)\n",
    "    m_minus.resize(x1, 0)\n",
    "    \n",
    "    for m in range(n_plus):\n",
    "        m_plus += X_plus[:,m]\n",
    "        return m_plus\n",
    "\n",
    "    m_plus = m_plus/n_plus\n",
    "\n",
    "    for s in range(n_minus):\n",
    "        m_minus += X_minus[:,s]\n",
    "        return m_minus\n",
    "\n",
    "    m_minus = m_minus/n_minus\n",
    "\n",
    "    w = m_plus - m_minus\n",
    "    \n",
    "    b = -0.5 * (np.linalg.norm(m_plus)-np.linalg.norm(m_minus))\n",
    "    \n",
    "    return w, b"
   ]
  },
  {
   "cell_type": "code",
   "execution_count": 16,
   "metadata": {},
   "outputs": [],
   "source": [
    "def train_lda(X,Y):\n",
    "   \n",
    "    X_plus = np.zeros(1)\n",
    "    x3, x4 = X.shape\n",
    "    X_plus.resize(x3, 0)\n",
    "    X_minus = np.zeros(1)\n",
    "    X_minus.resize(x3, 0)\n",
    "    \n",
    "    for i in range(len(Y)):\n",
    "        if Y[i] > 0:\n",
    "            X_plus = np.c_[X_plus, X[:,i]]\n",
    "        else:\n",
    "            pass\n",
    "        return X_plus\n",
    "    \n",
    "    for n in range(len(Y)):\n",
    "        if Y[i] < 0:\n",
    "            X_minus = np.c_[X_minus, X[:,n]]\n",
    "        else:\n",
    "            pass\n",
    "        return X_minus\n",
    "    \n",
    "    m_plus = np.zeros(1)\n",
    "    m_plus.resize(x3, 0)\n",
    "    m_minus = np.zeros(1)\n",
    "    m_minus.resize(x3, 0)\n",
    "    n_plus = len(np.transpose(X_plus))\n",
    "    n_minus = len(np.transpose(X_minus))\n",
    "    \n",
    "    for m in range(n_plus):\n",
    "        m_plus += X_plus[:,m]\n",
    "        return m_plus\n",
    "    \n",
    "    m_plus = m_plus/n_plus\n",
    "    \n",
    "    for s in range(n_minus):\n",
    "        m_minus += X_minus[:,s]\n",
    "        return m_minus\n",
    "    \n",
    "    m_minus = m_minus/n_minus\n",
    "    \n",
    "    Sb = np.dot(m_plus-m_minus, m_plus-m_minus)\n",
    "    \n",
    "    xm_plus = np.zeros(1)\n",
    "    xm_plus.resize(x3, 0)\n",
    "    xm_minus = np.zeros(1)\n",
    "    xm_minus.resize(x3, 0)\n",
    "    \n",
    "    for q in range(n_plus):\n",
    "        xm_plus += np.dot((X_plus[:,q]-m_plus),(X_plus[:,q]-m_plus))\n",
    "        return xm_plus\n",
    "    xm_plus = xm_plus/n_plus\n",
    "    \n",
    "    for r in range(n_minus):\n",
    "        xm_minus += np.dot((X_minus[:,r]-m_minus),(X_minus[:,r]-m_minus))\n",
    "        return xm_minus\n",
    "    xm_minus = xm_minus/n_minus\n",
    "    \n",
    "    Sw = xm_plus + xm_minus\n",
    "    \n",
    "    w = eig(Sb, Sw)\n",
    "    \n",
    "    b = 0.5 * (np.dot(w, m_plus)+np.dot(w, m_minus))\n",
    "    \n",
    "    return w, b\n"
   ]
  },
  {
   "cell_type": "code",
   "execution_count": null,
   "metadata": {},
   "outputs": [],
   "source": []
  }
 ],
 "metadata": {
  "kernelspec": {
   "display_name": "Python 3",
   "language": "python",
   "name": "python3"
  },
  "language_info": {
   "codemirror_mode": {
    "name": "ipython",
    "version": 3
   },
   "file_extension": ".py",
   "mimetype": "text/x-python",
   "name": "python",
   "nbconvert_exporter": "python",
   "pygments_lexer": "ipython3",
   "version": "3.8.5"
  }
 },
 "nbformat": 4,
 "nbformat_minor": 4
}
